{
  "nbformat": 4,
  "nbformat_minor": 0,
  "metadata": {
    "colab": {
      "name": "page64.py",
      "provenance": [],
      "collapsed_sections": [],
      "toc_visible": true,
      "include_colab_link": true
    },
    "kernelspec": {
      "display_name": "Python 3",
      "name": "python3"
    }
  },
  "cells": [
    {
      "cell_type": "markdown",
      "metadata": {
        "id": "view-in-github",
        "colab_type": "text"
      },
      "source": [
        "<a href=\"https://colab.research.google.com/github/basharE/ML_course/blob/main/page64_py.ipynb\" target=\"_parent\"><img src=\"https://colab.research.google.com/assets/colab-badge.svg\" alt=\"Open In Colab\"/></a>"
      ]
    },
    {
      "cell_type": "markdown",
      "metadata": {
        "id": "eopAY6r0xrOa"
      },
      "source": [
        "\n",
        "\n",
        "# Question 1\n"
      ]
    },
    {
      "cell_type": "code",
      "metadata": {
        "colab": {
          "base_uri": "https://localhost:8080/"
        },
        "id": "HkkkvWo0TPjO",
        "outputId": "8e02fb51-847a-4468-c91a-c459bd954a4f"
      },
      "source": [
        "import numpy as np\n",
        "z = np.linspace(0, 9, 10)\n",
        "print(z)"
      ],
      "execution_count": null,
      "outputs": [
        {
          "output_type": "stream",
          "text": [
            "[0. 1. 2. 3. 4. 5. 6. 7. 8. 9.]\n"
          ],
          "name": "stdout"
        }
      ]
    },
    {
      "cell_type": "markdown",
      "metadata": {
        "id": "VlgN5Q8Gxb07"
      },
      "source": [
        "\n",
        "# Question 2"
      ]
    },
    {
      "cell_type": "code",
      "metadata": {
        "colab": {
          "base_uri": "https://localhost:8080/"
        },
        "id": "gky1xXEZxZRA",
        "outputId": "f2e9dd79-3bc8-45c8-baac-b51d493bb05e"
      },
      "source": [
        "import numpy as np\n",
        "k = np.ones((3, 3), dtype=bool)\n",
        "print(k)"
      ],
      "execution_count": null,
      "outputs": [
        {
          "output_type": "stream",
          "text": [
            "[[ True  True  True]\n",
            " [ True  True  True]\n",
            " [ True  True  True]]\n"
          ],
          "name": "stdout"
        }
      ]
    },
    {
      "cell_type": "markdown",
      "metadata": {
        "id": "yVwz9SHPxU18"
      },
      "source": [
        "# Question 3"
      ]
    },
    {
      "cell_type": "code",
      "metadata": {
        "colab": {
          "base_uri": "https://localhost:8080/"
        },
        "id": "L-SlHqaPxSwn",
        "outputId": "529f1ff5-76b7-4065-ea82-7034687c9620"
      },
      "source": [
        "import numpy as np\n",
        "arr = np.array([0, 1, 2, 3, 4, 5, 6, 7, 8, 9])\n",
        "m = arr % 2 != 0\n",
        "s = arr[m]\n",
        "print(s)"
      ],
      "execution_count": null,
      "outputs": [
        {
          "output_type": "stream",
          "text": [
            "[1 3 5 7 9]\n"
          ],
          "name": "stdout"
        }
      ]
    },
    {
      "cell_type": "markdown",
      "metadata": {
        "id": "Gu7mHm7mxIPI"
      },
      "source": [
        "\n",
        "# Question 4"
      ]
    },
    {
      "cell_type": "code",
      "metadata": {
        "colab": {
          "base_uri": "https://localhost:8080/"
        },
        "id": "gWCsvavNxF8y",
        "outputId": "bc844e76-a385-4872-e6b1-1c8a2fdfd0a6"
      },
      "source": [
        "import numpy as np\n",
        "a = np.array([1, 2, 3, 2, 3, 4, 3, 4, 5, 6])\n",
        "b = np.array([7, 2, 10, 2, 7, 4, 9, 4, 9, 8])\n",
        "c = a == b\n",
        "n = a[c]\n",
        "print(n)"
      ],
      "execution_count": null,
      "outputs": [
        {
          "output_type": "stream",
          "text": [
            "[2 2 4 4]\n"
          ],
          "name": "stdout"
        }
      ]
    },
    {
      "cell_type": "markdown",
      "metadata": {
        "id": "t8jq4zF-TfY-"
      },
      "source": [
        "# Question 5"
      ]
    },
    {
      "cell_type": "code",
      "metadata": {
        "colab": {
          "base_uri": "https://localhost:8080/"
        },
        "id": "XEpbnlCELIfE",
        "outputId": "69eb5242-a417-4455-aa8e-7e5096cb6e4a"
      },
      "source": [
        "import numpy as np\n",
        "url = \"https://archive.ics.uci.edu/ml/machine-learning-databases/iris/iris.data\"\n",
        "iris = np.genfromtxt(url, delimiter=',', dtype='float')\n",
        "print(\"mean: \", np.mean(iris[:,0]))\n",
        "print(\"median: \", np.median(iris[:,0]))\n",
        "print(\"standard deviation: \", np.std(iris[:,0]))"
      ],
      "execution_count": null,
      "outputs": [
        {
          "output_type": "stream",
          "text": [
            "mean:  5.843333333333334\n",
            "median:  5.8\n",
            "standard deviation:  0.8253012917851409\n"
          ],
          "name": "stdout"
        }
      ]
    },
    {
      "cell_type": "markdown",
      "metadata": {
        "id": "GYBit92yT0QM"
      },
      "source": [
        "# Question 6"
      ]
    },
    {
      "cell_type": "code",
      "metadata": {
        "id": "1j9a1q8jT4Rj",
        "colab": {
          "base_uri": "https://localhost:8080/"
        },
        "outputId": "41160cef-b2c2-4ac4-fb64-4a668f1084d3"
      },
      "source": [
        "import numpy as np\n",
        "url = \"https://archive.ics.uci.edu/ml/machine-learning-databases/iris/iris.data\"\n",
        "iris = np.genfromtxt(url, delimiter=',', dtype='object')\n",
        "arr = iris[:,2]\n",
        "i = 0\n",
        "while i < arr.size:\n",
        "    if(i==arr.size):\n",
        "        break\n",
        "    if float(arr[i]) < 3:\n",
        "        arr[i]='small'\n",
        "    elif float(arr[i]) >= 5:\n",
        "        arr[i]='large'\n",
        "    elif 3 <= float(arr[i]) < 5:\n",
        "        arr[i]='medium'\n",
        "    i = i+1\n",
        "iris[:,2]=arr \n",
        "print(iris)"
      ],
      "execution_count": null,
      "outputs": [
        {
          "output_type": "stream",
          "text": [
            "[[b'5.1' b'3.5' 'small' b'0.2' b'Iris-setosa']\n",
            " [b'4.9' b'3.0' 'small' b'0.2' b'Iris-setosa']\n",
            " [b'4.7' b'3.2' 'small' b'0.2' b'Iris-setosa']\n",
            " [b'4.6' b'3.1' 'small' b'0.2' b'Iris-setosa']\n",
            " [b'5.0' b'3.6' 'small' b'0.2' b'Iris-setosa']\n",
            " [b'5.4' b'3.9' 'small' b'0.4' b'Iris-setosa']\n",
            " [b'4.6' b'3.4' 'small' b'0.3' b'Iris-setosa']\n",
            " [b'5.0' b'3.4' 'small' b'0.2' b'Iris-setosa']\n",
            " [b'4.4' b'2.9' 'small' b'0.2' b'Iris-setosa']\n",
            " [b'4.9' b'3.1' 'small' b'0.1' b'Iris-setosa']\n",
            " [b'5.4' b'3.7' 'small' b'0.2' b'Iris-setosa']\n",
            " [b'4.8' b'3.4' 'small' b'0.2' b'Iris-setosa']\n",
            " [b'4.8' b'3.0' 'small' b'0.1' b'Iris-setosa']\n",
            " [b'4.3' b'3.0' 'small' b'0.1' b'Iris-setosa']\n",
            " [b'5.8' b'4.0' 'small' b'0.2' b'Iris-setosa']\n",
            " [b'5.7' b'4.4' 'small' b'0.4' b'Iris-setosa']\n",
            " [b'5.4' b'3.9' 'small' b'0.4' b'Iris-setosa']\n",
            " [b'5.1' b'3.5' 'small' b'0.3' b'Iris-setosa']\n",
            " [b'5.7' b'3.8' 'small' b'0.3' b'Iris-setosa']\n",
            " [b'5.1' b'3.8' 'small' b'0.3' b'Iris-setosa']\n",
            " [b'5.4' b'3.4' 'small' b'0.2' b'Iris-setosa']\n",
            " [b'5.1' b'3.7' 'small' b'0.4' b'Iris-setosa']\n",
            " [b'4.6' b'3.6' 'small' b'0.2' b'Iris-setosa']\n",
            " [b'5.1' b'3.3' 'small' b'0.5' b'Iris-setosa']\n",
            " [b'4.8' b'3.4' 'small' b'0.2' b'Iris-setosa']\n",
            " [b'5.0' b'3.0' 'small' b'0.2' b'Iris-setosa']\n",
            " [b'5.0' b'3.4' 'small' b'0.4' b'Iris-setosa']\n",
            " [b'5.2' b'3.5' 'small' b'0.2' b'Iris-setosa']\n",
            " [b'5.2' b'3.4' 'small' b'0.2' b'Iris-setosa']\n",
            " [b'4.7' b'3.2' 'small' b'0.2' b'Iris-setosa']\n",
            " [b'4.8' b'3.1' 'small' b'0.2' b'Iris-setosa']\n",
            " [b'5.4' b'3.4' 'small' b'0.4' b'Iris-setosa']\n",
            " [b'5.2' b'4.1' 'small' b'0.1' b'Iris-setosa']\n",
            " [b'5.5' b'4.2' 'small' b'0.2' b'Iris-setosa']\n",
            " [b'4.9' b'3.1' 'small' b'0.1' b'Iris-setosa']\n",
            " [b'5.0' b'3.2' 'small' b'0.2' b'Iris-setosa']\n",
            " [b'5.5' b'3.5' 'small' b'0.2' b'Iris-setosa']\n",
            " [b'4.9' b'3.1' 'small' b'0.1' b'Iris-setosa']\n",
            " [b'4.4' b'3.0' 'small' b'0.2' b'Iris-setosa']\n",
            " [b'5.1' b'3.4' 'small' b'0.2' b'Iris-setosa']\n",
            " [b'5.0' b'3.5' 'small' b'0.3' b'Iris-setosa']\n",
            " [b'4.5' b'2.3' 'small' b'0.3' b'Iris-setosa']\n",
            " [b'4.4' b'3.2' 'small' b'0.2' b'Iris-setosa']\n",
            " [b'5.0' b'3.5' 'small' b'0.6' b'Iris-setosa']\n",
            " [b'5.1' b'3.8' 'small' b'0.4' b'Iris-setosa']\n",
            " [b'4.8' b'3.0' 'small' b'0.3' b'Iris-setosa']\n",
            " [b'5.1' b'3.8' 'small' b'0.2' b'Iris-setosa']\n",
            " [b'4.6' b'3.2' 'small' b'0.2' b'Iris-setosa']\n",
            " [b'5.3' b'3.7' 'small' b'0.2' b'Iris-setosa']\n",
            " [b'5.0' b'3.3' 'small' b'0.2' b'Iris-setosa']\n",
            " [b'7.0' b'3.2' 'medium' b'1.4' b'Iris-versicolor']\n",
            " [b'6.4' b'3.2' 'medium' b'1.5' b'Iris-versicolor']\n",
            " [b'6.9' b'3.1' 'medium' b'1.5' b'Iris-versicolor']\n",
            " [b'5.5' b'2.3' 'medium' b'1.3' b'Iris-versicolor']\n",
            " [b'6.5' b'2.8' 'medium' b'1.5' b'Iris-versicolor']\n",
            " [b'5.7' b'2.8' 'medium' b'1.3' b'Iris-versicolor']\n",
            " [b'6.3' b'3.3' 'medium' b'1.6' b'Iris-versicolor']\n",
            " [b'4.9' b'2.4' 'medium' b'1.0' b'Iris-versicolor']\n",
            " [b'6.6' b'2.9' 'medium' b'1.3' b'Iris-versicolor']\n",
            " [b'5.2' b'2.7' 'medium' b'1.4' b'Iris-versicolor']\n",
            " [b'5.0' b'2.0' 'medium' b'1.0' b'Iris-versicolor']\n",
            " [b'5.9' b'3.0' 'medium' b'1.5' b'Iris-versicolor']\n",
            " [b'6.0' b'2.2' 'medium' b'1.0' b'Iris-versicolor']\n",
            " [b'6.1' b'2.9' 'medium' b'1.4' b'Iris-versicolor']\n",
            " [b'5.6' b'2.9' 'medium' b'1.3' b'Iris-versicolor']\n",
            " [b'6.7' b'3.1' 'medium' b'1.4' b'Iris-versicolor']\n",
            " [b'5.6' b'3.0' 'medium' b'1.5' b'Iris-versicolor']\n",
            " [b'5.8' b'2.7' 'medium' b'1.0' b'Iris-versicolor']\n",
            " [b'6.2' b'2.2' 'medium' b'1.5' b'Iris-versicolor']\n",
            " [b'5.6' b'2.5' 'medium' b'1.1' b'Iris-versicolor']\n",
            " [b'5.9' b'3.2' 'medium' b'1.8' b'Iris-versicolor']\n",
            " [b'6.1' b'2.8' 'medium' b'1.3' b'Iris-versicolor']\n",
            " [b'6.3' b'2.5' 'medium' b'1.5' b'Iris-versicolor']\n",
            " [b'6.1' b'2.8' 'medium' b'1.2' b'Iris-versicolor']\n",
            " [b'6.4' b'2.9' 'medium' b'1.3' b'Iris-versicolor']\n",
            " [b'6.6' b'3.0' 'medium' b'1.4' b'Iris-versicolor']\n",
            " [b'6.8' b'2.8' 'medium' b'1.4' b'Iris-versicolor']\n",
            " [b'6.7' b'3.0' 'large' b'1.7' b'Iris-versicolor']\n",
            " [b'6.0' b'2.9' 'medium' b'1.5' b'Iris-versicolor']\n",
            " [b'5.7' b'2.6' 'medium' b'1.0' b'Iris-versicolor']\n",
            " [b'5.5' b'2.4' 'medium' b'1.1' b'Iris-versicolor']\n",
            " [b'5.5' b'2.4' 'medium' b'1.0' b'Iris-versicolor']\n",
            " [b'5.8' b'2.7' 'medium' b'1.2' b'Iris-versicolor']\n",
            " [b'6.0' b'2.7' 'large' b'1.6' b'Iris-versicolor']\n",
            " [b'5.4' b'3.0' 'medium' b'1.5' b'Iris-versicolor']\n",
            " [b'6.0' b'3.4' 'medium' b'1.6' b'Iris-versicolor']\n",
            " [b'6.7' b'3.1' 'medium' b'1.5' b'Iris-versicolor']\n",
            " [b'6.3' b'2.3' 'medium' b'1.3' b'Iris-versicolor']\n",
            " [b'5.6' b'3.0' 'medium' b'1.3' b'Iris-versicolor']\n",
            " [b'5.5' b'2.5' 'medium' b'1.3' b'Iris-versicolor']\n",
            " [b'5.5' b'2.6' 'medium' b'1.2' b'Iris-versicolor']\n",
            " [b'6.1' b'3.0' 'medium' b'1.4' b'Iris-versicolor']\n",
            " [b'5.8' b'2.6' 'medium' b'1.2' b'Iris-versicolor']\n",
            " [b'5.0' b'2.3' 'medium' b'1.0' b'Iris-versicolor']\n",
            " [b'5.6' b'2.7' 'medium' b'1.3' b'Iris-versicolor']\n",
            " [b'5.7' b'3.0' 'medium' b'1.2' b'Iris-versicolor']\n",
            " [b'5.7' b'2.9' 'medium' b'1.3' b'Iris-versicolor']\n",
            " [b'6.2' b'2.9' 'medium' b'1.3' b'Iris-versicolor']\n",
            " [b'5.1' b'2.5' 'medium' b'1.1' b'Iris-versicolor']\n",
            " [b'5.7' b'2.8' 'medium' b'1.3' b'Iris-versicolor']\n",
            " [b'6.3' b'3.3' 'large' b'2.5' b'Iris-virginica']\n",
            " [b'5.8' b'2.7' 'large' b'1.9' b'Iris-virginica']\n",
            " [b'7.1' b'3.0' 'large' b'2.1' b'Iris-virginica']\n",
            " [b'6.3' b'2.9' 'large' b'1.8' b'Iris-virginica']\n",
            " [b'6.5' b'3.0' 'large' b'2.2' b'Iris-virginica']\n",
            " [b'7.6' b'3.0' 'large' b'2.1' b'Iris-virginica']\n",
            " [b'4.9' b'2.5' 'medium' b'1.7' b'Iris-virginica']\n",
            " [b'7.3' b'2.9' 'large' b'1.8' b'Iris-virginica']\n",
            " [b'6.7' b'2.5' 'large' b'1.8' b'Iris-virginica']\n",
            " [b'7.2' b'3.6' 'large' b'2.5' b'Iris-virginica']\n",
            " [b'6.5' b'3.2' 'large' b'2.0' b'Iris-virginica']\n",
            " [b'6.4' b'2.7' 'large' b'1.9' b'Iris-virginica']\n",
            " [b'6.8' b'3.0' 'large' b'2.1' b'Iris-virginica']\n",
            " [b'5.7' b'2.5' 'large' b'2.0' b'Iris-virginica']\n",
            " [b'5.8' b'2.8' 'large' b'2.4' b'Iris-virginica']\n",
            " [b'6.4' b'3.2' 'large' b'2.3' b'Iris-virginica']\n",
            " [b'6.5' b'3.0' 'large' b'1.8' b'Iris-virginica']\n",
            " [b'7.7' b'3.8' 'large' b'2.2' b'Iris-virginica']\n",
            " [b'7.7' b'2.6' 'large' b'2.3' b'Iris-virginica']\n",
            " [b'6.0' b'2.2' 'large' b'1.5' b'Iris-virginica']\n",
            " [b'6.9' b'3.2' 'large' b'2.3' b'Iris-virginica']\n",
            " [b'5.6' b'2.8' 'medium' b'2.0' b'Iris-virginica']\n",
            " [b'7.7' b'2.8' 'large' b'2.0' b'Iris-virginica']\n",
            " [b'6.3' b'2.7' 'medium' b'1.8' b'Iris-virginica']\n",
            " [b'6.7' b'3.3' 'large' b'2.1' b'Iris-virginica']\n",
            " [b'7.2' b'3.2' 'large' b'1.8' b'Iris-virginica']\n",
            " [b'6.2' b'2.8' 'medium' b'1.8' b'Iris-virginica']\n",
            " [b'6.1' b'3.0' 'medium' b'1.8' b'Iris-virginica']\n",
            " [b'6.4' b'2.8' 'large' b'2.1' b'Iris-virginica']\n",
            " [b'7.2' b'3.0' 'large' b'1.6' b'Iris-virginica']\n",
            " [b'7.4' b'2.8' 'large' b'1.9' b'Iris-virginica']\n",
            " [b'7.9' b'3.8' 'large' b'2.0' b'Iris-virginica']\n",
            " [b'6.4' b'2.8' 'large' b'2.2' b'Iris-virginica']\n",
            " [b'6.3' b'2.8' 'large' b'1.5' b'Iris-virginica']\n",
            " [b'6.1' b'2.6' 'large' b'1.4' b'Iris-virginica']\n",
            " [b'7.7' b'3.0' 'large' b'2.3' b'Iris-virginica']\n",
            " [b'6.3' b'3.4' 'large' b'2.4' b'Iris-virginica']\n",
            " [b'6.4' b'3.1' 'large' b'1.8' b'Iris-virginica']\n",
            " [b'6.0' b'3.0' 'medium' b'1.8' b'Iris-virginica']\n",
            " [b'6.9' b'3.1' 'large' b'2.1' b'Iris-virginica']\n",
            " [b'6.7' b'3.1' 'large' b'2.4' b'Iris-virginica']\n",
            " [b'6.9' b'3.1' 'large' b'2.3' b'Iris-virginica']\n",
            " [b'5.8' b'2.7' 'large' b'1.9' b'Iris-virginica']\n",
            " [b'6.8' b'3.2' 'large' b'2.3' b'Iris-virginica']\n",
            " [b'6.7' b'3.3' 'large' b'2.5' b'Iris-virginica']\n",
            " [b'6.7' b'3.0' 'large' b'2.3' b'Iris-virginica']\n",
            " [b'6.3' b'2.5' 'large' b'1.9' b'Iris-virginica']\n",
            " [b'6.5' b'3.0' 'large' b'2.0' b'Iris-virginica']\n",
            " [b'6.2' b'3.4' 'large' b'2.3' b'Iris-virginica']\n",
            " [b'5.9' b'3.0' 'large' b'1.8' b'Iris-virginica']]\n"
          ],
          "name": "stdout"
        }
      ]
    }
  ]
}